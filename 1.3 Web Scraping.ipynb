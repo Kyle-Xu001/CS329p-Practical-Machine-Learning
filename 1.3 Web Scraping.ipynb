{
 "cells": [
  {
   "cell_type": "code",
   "execution_count": 1,
   "id": "6cc3185a",
   "metadata": {},
   "outputs": [],
   "source": [
    "from selenium import webdriver\n",
    "from selenium.webdriver.common.by import By\n",
    "from selenium.webdriver.chrome.options import Options\n",
    "from selenium.webdriver.support import expected_conditions as EC\n",
    "from selenium.webdriver.support.ui import WebDriverWait\n",
    "\n",
    "from bs4 import BeautifulSoup"
   ]
  },
  {
   "cell_type": "code",
   "execution_count": 17,
   "id": "796bc90e",
   "metadata": {},
   "outputs": [
    {
     "name": "stdout",
     "output_type": "stream",
     "text": [
      "Now accessing https://www.zillow.com/new-york-ny/sold/\n"
     ]
    }
   ],
   "source": [
    "## Zillow Practice\n",
    "# Define the headless Chrome webdriver\n",
    "chrome_options = Options()\n",
    "chrome_options.add_argument(\"--headless\")\n",
    "driver = webdriver.Chrome(options = chrome_options)\n",
    "\n",
    "# Define the default Chrome webdriver without headless \n",
    "# Since the website will block the ip with headless webdriver\n",
    "driver = webdriver.Chrome()\n",
    "\n",
    "# Define the website url for house sale data\n",
    "url = 'https://www.zillow.com/new-york-ny/sold/'\n",
    "\n",
    "print(\"Now accessing %s\" %(url))\n",
    "page = driver.get(url)"
   ]
  },
  {
   "cell_type": "code",
   "execution_count": 10,
   "id": "20148444",
   "metadata": {},
   "outputs": [
    {
     "name": "stdout",
     "output_type": "stream",
     "text": [
      "636 W Fingerboard Rd, Staten Island, NY 10305\n",
      "120-12 85th Ave APT 6B, Kew Gardens, NY 11415\n",
      "16015 Powells Cove Blvd APT C305, Flushing, NY 11357\n",
      "6036 Tyndall Ave, Bronx, NY 10471\n",
      "75-13 260th St FLOOR 1, Glen Oaks, NY 11004\n",
      "67-24 150th St #408A, Flushing, NY 11367\n",
      "106-15 Queens Blvd #2R, Forest Hills, NY 11375\n",
      "78-19 265th St, Glen Oaks, NY 11004\n",
      "450 Home Ave, Staten Island, NY 10305\n",
      "546 Buchanan Ave #B, Staten Island, NY 10314\n",
      "150 Lorraine Loop, Staten Island, NY 10309\n",
      "2810 39th Ave, Long Island City, NY 11101\n",
      "16 Evergreen St, Staten Island, NY 10308\n",
      "42-35 Main St #4-K, Flushing, NY 11355\n",
      "224-68A Horace Harding Expy #A, Oakland Gardens, NY 11364\n",
      "15 Navesink Pl, Staten Island, NY 10306\n",
      "4587 Hylan Blvd, Staten Island, NY 10312\n",
      "34-25 42nd St, Long Island City, NY 11101\n",
      "71-36 110th St #3A, Forest Hills, NY 11375\n",
      "16210 72nd Ave, Flushing, NY 11365\n",
      "101 W 67th St APT 48F, New York, NY 10023\n",
      "260-27 Langston Ave FLOOR 2, Glen Oaks, NY 11004\n",
      "448 Neptune Ave APT 15O, Brooklyn, NY 11224\n",
      "5717 134th St, Flushing, NY 11355\n",
      "1724 E 174th St, Bronx, NY 10472\n",
      "5640 Netherland Ave APT 6D, Bronx, NY 10471\n",
      "10518 Flatlands 4 St, Brooklyn, NY 11236\n",
      "133 Beach 120th St APT 4C, Rockaway Park, NY 11694\n",
      "916 Clarence Ave, Bronx, NY 10465\n",
      "54-44 Little Neck Pkwy #4-O, Little Neck, NY 11362\n",
      "23-35 Corporal Kennedy St, Bayside, NY 11360\n",
      "29-49 137th St #5J, Flushing, NY 11354\n",
      "212-22 15th Ave #184, Bayside, NY 11360\n",
      "360 Jefferson Ave, Brooklyn, NY 11221\n",
      "153-52 76th Rd #2I, Flushing, NY 11367\n",
      "1505 Archer Rd APT 12A, Bronx, NY 10462\n",
      "3043 Coddington Ave, Bronx, NY 10461\n",
      "8531 53rd Ave, Flushing, NY 11373\n",
      "3903 Nostrand Ave APT 1B, Brooklyn, NY 11235\n",
      "18134 144th Ave, Jamaica, NY 11413\n"
     ]
    }
   ],
   "source": [
    "# Use css selector to locate the position from HTML\n",
    "e_item = driver.find_elements(By.CSS_SELECTOR,'.list-card-addr') # Class Property\n",
    "\n",
    "print('\\n'.join([e.text for e in e_item]))\n",
    "\n",
    "# Define the list for house address\n",
    "address = []\n",
    "for i in range(len(e_item)):\n",
    "    address.append(e_item[i].text)"
   ]
  },
  {
   "cell_type": "code",
   "execution_count": 11,
   "id": "bbbd53f7",
   "metadata": {},
   "outputs": [
    {
     "name": "stdout",
     "output_type": "stream",
     "text": [
      "House IDs:  ['32324948', '89826018', '219862376', '29853716', '2069123232', '113502097', '2068758084', '2070451725', '32319274', '2067874987', '32373312', '31936663', '32340978', '2077494562', '2069792720', '32335163', '145558423', '2070963139', '2067972119', '32072993', '31520324', '2069481448', '89029642', '32063677', '29798086', '124433393', '2070102141', '247151111', '29845997', '2073089681', '2068583197', '2068578581', '2070094071', '30610199', '2072765307', '29800422', '29842872', '31991991', '2114016549', '32203109']\n"
     ]
    }
   ],
   "source": [
    "# Obtain the content of each HTML\n",
    "e_item = driver.find_elements(By.CSS_SELECTOR,'.list-card')\n",
    "content = [e.get_attribute('innerHTML') for e in e_item]\n",
    "\n",
    "# Obtain the URL link for each house\n",
    "links = []\n",
    "for i in range(len(content)):\n",
    "    soup = BeautifulSoup(content[i],\"html.parser\")\n",
    "    for a in soup.find_all('a','list-card-link'):\n",
    "        link = a['href'] \n",
    "    links.append(link)\n",
    "\n",
    "# Obtain the list for house IDs\n",
    "ids = [l.split('/')[-2].split('_')[0] for l in links]\n",
    "print('House IDs: ',ids)"
   ]
  },
  {
   "cell_type": "code",
   "execution_count": 12,
   "id": "0f3cbeee",
   "metadata": {},
   "outputs": [
    {
     "name": "stdout",
     "output_type": "stream",
     "text": [
      "House Salling Price:  ['$1.80M', '$310,000', '$265,000', '$776,000', '$343,000', '$355,000', '$440,000', '$755,000', '$1.18M', '$398,880', '$510,000', '$1.08M', '$699,900', '$850,000', '$240,000', '$450,000', '$595,000', '$1.42M', '$244,500', '$630,000', '$1.52M', '$265,000', '$330,000', '$1.37M', '$773,000', '$157,000', '$982,000', '$209,000', '$649,000', '$180,000', '$1.45M', '$250,000', '$400,000', '$1.85M', '$540,000', '$247,000', '$650,000', '$1.06M', '$290,000', '$780,000'] \n",
      "\n",
      "House Salling Date:  ['12/22/2021', '12/22/2021', '12/22/2021', '12/22/2021', '12/22/2021', '12/22/2021', '12/22/2021', '12/22/2021', '12/21/2021', '12/21/2021', '12/21/2021', '12/21/2021', '12/21/2021', '12/21/2021', '12/21/2021', '12/21/2021', '12/21/2021', '12/21/2021', '12/21/2021', '12/21/2021', '12/21/2021', '12/21/2021', '12/21/2021', '12/21/2021', '12/21/2021', '12/21/2021', '12/21/2021', '12/21/2021', '12/21/2021', '12/21/2021', '12/21/2021', '12/21/2021', '12/21/2021', '12/21/2021', '12/21/2021', '12/21/2021', '12/21/2021', '12/21/2021', '12/21/2021', '12/21/2021']\n"
     ]
    }
   ],
   "source": [
    "# Obtain the list for house selling prices and house selling dates\n",
    "prices = []\n",
    "dates = []\n",
    "\n",
    "for i in range(len(content)):\n",
    "    soup = BeautifulSoup(content[i],\"html.parser\")\n",
    "    # Locate the price and date from the content\n",
    "    price = soup.find('div','list-card-price')\n",
    "    date = soup.find('div','list-card-variable-text')\n",
    "    prices.append(price.text)\n",
    "    dates.append(date.text.split(' ')[-1])\n",
    "    \n",
    "print('House Salling Price: ',prices, '\\n')\n",
    "print('House Salling Date: ',dates)"
   ]
  },
  {
   "cell_type": "code",
   "execution_count": 13,
   "id": "1c7c7762",
   "metadata": {},
   "outputs": [
    {
     "name": "stdout",
     "output_type": "stream",
     "text": [
      "{'id': '32324948', 'price': '$1.80M', 'date': '12/22/2021', 'address': '636 W Fingerboard Rd, Staten Island, NY 10305'}\n",
      "{'id': '89826018', 'price': '$310,000', 'date': '12/22/2021', 'address': '120-12 85th Ave APT 6B, Kew Gardens, NY 11415'}\n",
      "{'id': '219862376', 'price': '$265,000', 'date': '12/22/2021', 'address': '16015 Powells Cove Blvd APT C305, Flushing, NY 11357'}\n",
      "{'id': '29853716', 'price': '$776,000', 'date': '12/22/2021', 'address': '6036 Tyndall Ave, Bronx, NY 10471'}\n",
      "{'id': '2069123232', 'price': '$343,000', 'date': '12/22/2021', 'address': '75-13 260th St FLOOR 1, Glen Oaks, NY 11004'}\n",
      "{'id': '113502097', 'price': '$355,000', 'date': '12/22/2021', 'address': '67-24 150th St #408A, Flushing, NY 11367'}\n",
      "{'id': '2068758084', 'price': '$440,000', 'date': '12/22/2021', 'address': '106-15 Queens Blvd #2R, Forest Hills, NY 11375'}\n",
      "{'id': '2070451725', 'price': '$755,000', 'date': '12/22/2021', 'address': '78-19 265th St, Glen Oaks, NY 11004'}\n",
      "{'id': '32319274', 'price': '$1.18M', 'date': '12/21/2021', 'address': '450 Home Ave, Staten Island, NY 10305'}\n",
      "{'id': '2067874987', 'price': '$398,880', 'date': '12/21/2021', 'address': '546 Buchanan Ave #B, Staten Island, NY 10314'}\n",
      "{'id': '32373312', 'price': '$510,000', 'date': '12/21/2021', 'address': '150 Lorraine Loop, Staten Island, NY 10309'}\n",
      "{'id': '31936663', 'price': '$1.08M', 'date': '12/21/2021', 'address': '2810 39th Ave, Long Island City, NY 11101'}\n",
      "{'id': '32340978', 'price': '$699,900', 'date': '12/21/2021', 'address': '16 Evergreen St, Staten Island, NY 10308'}\n",
      "{'id': '2077494562', 'price': '$850,000', 'date': '12/21/2021', 'address': '42-35 Main St #4-K, Flushing, NY 11355'}\n",
      "{'id': '2069792720', 'price': '$240,000', 'date': '12/21/2021', 'address': '224-68A Horace Harding Expy #A, Oakland Gardens, NY 11364'}\n",
      "{'id': '32335163', 'price': '$450,000', 'date': '12/21/2021', 'address': '15 Navesink Pl, Staten Island, NY 10306'}\n",
      "{'id': '145558423', 'price': '$595,000', 'date': '12/21/2021', 'address': '4587 Hylan Blvd, Staten Island, NY 10312'}\n",
      "{'id': '2070963139', 'price': '$1.42M', 'date': '12/21/2021', 'address': '34-25 42nd St, Long Island City, NY 11101'}\n",
      "{'id': '2067972119', 'price': '$244,500', 'date': '12/21/2021', 'address': '71-36 110th St #3A, Forest Hills, NY 11375'}\n",
      "{'id': '32072993', 'price': '$630,000', 'date': '12/21/2021', 'address': '16210 72nd Ave, Flushing, NY 11365'}\n",
      "{'id': '31520324', 'price': '$1.52M', 'date': '12/21/2021', 'address': '101 W 67th St APT 48F, New York, NY 10023'}\n",
      "{'id': '2069481448', 'price': '$265,000', 'date': '12/21/2021', 'address': '260-27 Langston Ave FLOOR 2, Glen Oaks, NY 11004'}\n",
      "{'id': '89029642', 'price': '$330,000', 'date': '12/21/2021', 'address': '448 Neptune Ave APT 15O, Brooklyn, NY 11224'}\n",
      "{'id': '32063677', 'price': '$1.37M', 'date': '12/21/2021', 'address': '5717 134th St, Flushing, NY 11355'}\n",
      "{'id': '29798086', 'price': '$773,000', 'date': '12/21/2021', 'address': '1724 E 174th St, Bronx, NY 10472'}\n",
      "{'id': '124433393', 'price': '$157,000', 'date': '12/21/2021', 'address': '5640 Netherland Ave APT 6D, Bronx, NY 10471'}\n",
      "{'id': '2070102141', 'price': '$982,000', 'date': '12/21/2021', 'address': '10518 Flatlands 4 St, Brooklyn, NY 11236'}\n",
      "{'id': '247151111', 'price': '$209,000', 'date': '12/21/2021', 'address': '133 Beach 120th St APT 4C, Rockaway Park, NY 11694'}\n",
      "{'id': '29845997', 'price': '$649,000', 'date': '12/21/2021', 'address': '916 Clarence Ave, Bronx, NY 10465'}\n",
      "{'id': '2073089681', 'price': '$180,000', 'date': '12/21/2021', 'address': '54-44 Little Neck Pkwy #4-O, Little Neck, NY 11362'}\n",
      "{'id': '2068583197', 'price': '$1.45M', 'date': '12/21/2021', 'address': '23-35 Corporal Kennedy St, Bayside, NY 11360'}\n",
      "{'id': '2068578581', 'price': '$250,000', 'date': '12/21/2021', 'address': '29-49 137th St #5J, Flushing, NY 11354'}\n",
      "{'id': '2070094071', 'price': '$400,000', 'date': '12/21/2021', 'address': '212-22 15th Ave #184, Bayside, NY 11360'}\n",
      "{'id': '30610199', 'price': '$1.85M', 'date': '12/21/2021', 'address': '360 Jefferson Ave, Brooklyn, NY 11221'}\n",
      "{'id': '2072765307', 'price': '$540,000', 'date': '12/21/2021', 'address': '153-52 76th Rd #2I, Flushing, NY 11367'}\n",
      "{'id': '29800422', 'price': '$247,000', 'date': '12/21/2021', 'address': '1505 Archer Rd APT 12A, Bronx, NY 10462'}\n",
      "{'id': '29842872', 'price': '$650,000', 'date': '12/21/2021', 'address': '3043 Coddington Ave, Bronx, NY 10461'}\n",
      "{'id': '31991991', 'price': '$1.06M', 'date': '12/21/2021', 'address': '8531 53rd Ave, Flushing, NY 11373'}\n",
      "{'id': '2114016549', 'price': '$290,000', 'date': '12/21/2021', 'address': '3903 Nostrand Ave APT 1B, Brooklyn, NY 11235'}\n",
      "{'id': '32203109', 'price': '$780,000', 'date': '12/21/2021', 'address': '18134 144th Ave, Jamaica, NY 11413'}\n"
     ]
    }
   ],
   "source": [
    "# Generate the list of selling houses containing several data\n",
    "house = []\n",
    "for i in range(len(content)):\n",
    "    house_dict = {'id':ids[i], 'price':prices[i],\n",
    "                  'date':dates[i], 'address':address[i]}\n",
    "    print(house_dict)\n",
    "    house.append(house_dict)"
   ]
  },
  {
   "cell_type": "code",
   "execution_count": 14,
   "id": "d8678eea",
   "metadata": {},
   "outputs": [
    {
     "name": "stdout",
     "output_type": "stream",
     "text": [
      "Now accessing https://www.airbnb.nl/s/Delft/homes?tab_id=home_tab&refinement_paths%5B%5D=%2Fhomes&flexible_trip_dates%5B%5D=december&flexible_trip_dates%5B%5D=january&flexible_trip_lengths%5B%5D=weekend_trip&date_picker_type=calendar&checkin=2021-12-31&checkout=2022-01-02&source=structured_search_input_header&search_type=filter_change\n"
     ]
    }
   ],
   "source": [
    "## Airbnb Practice\n",
    "# Define the default Chrome webdriver without headless\n",
    "driver = webdriver.Chrome()\n",
    "\n",
    "# Define the website url for house sale data\n",
    "url = 'https://www.airbnb.nl/s/Delft/homes?tab_id=home_tab&refinement_paths%5B%5D=%2Fhomes&flexible_trip_dates%5B%5D=december&flexible_trip_dates%5B%5D=january&flexible_trip_lengths%5B%5D=weekend_trip&date_picker_type=calendar&checkin=2021-12-31&checkout=2022-01-02&source=structured_search_input_header&search_type=filter_change'\n",
    "\n",
    "print(\"Now accessing %s\" %(url))\n",
    "driver.get(url)"
   ]
  },
  {
   "cell_type": "code",
   "execution_count": 16,
   "id": "f1c00efd",
   "metadata": {},
   "outputs": [
    {
     "name": "stdout",
     "output_type": "stream",
     "text": [
      "House Address:  ['Mooie privékamer in de buurt van de TU', 'Gezellig appartement met een bedstee.', \"Achterhuis boven Inge's atelier in hartje centrum!\", 'Mooie privékamer in de buurt van de TU', 'Studio Punt Uit, Delft (studio Punt), free parking', 'House of Martini', 'Nice room near the TU and the citycentre of Delft', '★Walk Score 92★private balcony★ TU Delft & Unesco', 'Ik huur het huis voor MEER dan één persoon', 'Garden View Prins Room', 'Hidden Gem next to TU Delft Campus', 'Rustige kamer in grachtenpand', 'Luxe loftappartement met uitzicht op het centrum', 'Delft - Charming house close to scenic city centre', 'TU Delft centrum Eigen badkamer&walkscore999', 'Top locatie, goede werkplek, fietsen & exp.host', 'Authentiek monument in hartje Delft', 'Garden Gate Get-A-Way', 'Gemeubileerde kamer', 'Studio, Centraal station Den Haag.']\n"
     ]
    }
   ],
   "source": [
    "# Use css selector to locate the position from HTML\n",
    "e_item = driver.find_elements(By.CSS_SELECTOR,'._8ssblpx') # Use class name to locate each house\n",
    "content_airbnb = [e.get_attribute('outerHTML') for e in e_item]\n",
    "\n",
    "\n",
    "# Define the list for house address in Airbnb\n",
    "addresses_airbnb = []\n",
    "for i in range(len(e_item)):\n",
    "    address.append(e_item[i].text)\n",
    "for i in range(len(content_airbnb)):\n",
    "    soup = BeautifulSoup(content_airbnb[i],\"html.parser\")\n",
    "    address_airbnb = soup.find(class_='c1fwz84r')\n",
    "    addresses_airbnb.append(address_airbnb.text)\n",
    "    \n",
    "print('House Address: ',addresses_airbnb)"
   ]
  }
 ],
 "metadata": {
  "kernelspec": {
   "display_name": "Python 3",
   "language": "python",
   "name": "python3"
  },
  "language_info": {
   "codemirror_mode": {
    "name": "ipython",
    "version": 3
   },
   "file_extension": ".py",
   "mimetype": "text/x-python",
   "name": "python",
   "nbconvert_exporter": "python",
   "pygments_lexer": "ipython3",
   "version": "3.7.10"
  }
 },
 "nbformat": 4,
 "nbformat_minor": 5
}
